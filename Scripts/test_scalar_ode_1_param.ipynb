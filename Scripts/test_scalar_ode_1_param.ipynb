{
 "cells": [
  {
   "cell_type": "code",
   "execution_count": 1,
   "metadata": {},
   "outputs": [
    {
     "name": "stderr",
     "output_type": "stream",
     "text": [
      "WARNING (theano.configdefaults): install mkl with `conda install mkl-service`: No module named 'mkl'\n"
     ]
    }
   ],
   "source": [
    "from scipy.integrate import odeint\n",
    "from scipy.stats import lognorm\n",
    "import numpy as np\n",
    "from ode_api import *\n",
    "from ode_funcs import *\n",
    "import matplotlib.pyplot as plt\n",
    "import scipy\n",
    "import pymc3 as pm\n",
    "import pprint\n",
    "\n",
    "THEANO_FLAGS = 'exception_verbosity=high'\n",
    "THEANO_FLAGS='optimizer=fast_compile'\n",
    "theano.config.exception_verbosity= 'high'\n",
    "theano.config.floatX = 'float64'"
   ]
  },
  {
   "cell_type": "markdown",
   "metadata": {},
   "source": [
    "# Test 1: Scalar ODE with 1 parameter\n",
    "\n",
    "$$ y' = exp(-t) - \\alpha y \\quad y(0) = 0 $$"
   ]
  },
  {
   "cell_type": "code",
   "execution_count": 2,
   "metadata": {},
   "outputs": [],
   "source": [
    "#Specify how many stats, initial values, and ode parameters there are\n",
    "n_states = 1\n",
    "n_odeparams = 1\n",
    "\n",
    "#Times to evaluate the solution\n",
    "data = make_test_data_1()\n",
    "times = data['t']\n",
    "# times = np.arange(0.25,8,0.25)\n",
    "\n",
    "#Instantiate the ODEModel\n",
    "ode_model = ODEModel(func = test_ode_func_1, \n",
    "                    t0 = 0,\n",
    "                    times = times,\n",
    "                    n_states = n_states,\n",
    "                    n_odeparams = n_odeparams)"
   ]
  },
  {
   "cell_type": "code",
   "execution_count": 3,
   "metadata": {},
   "outputs": [
    {
     "data": {
      "text/plain": [
       "<matplotlib.legend.Legend at 0x1c22a45588>"
      ]
     },
     "execution_count": 3,
     "metadata": {},
     "output_type": "execute_result"
    },
    {
     "data": {
      "image/png": "[encoded data removed]",
      "text/plain": [
       "<Figure size 432x288 with 1 Axes>"
      ]
     },
     "metadata": {
      "needs_background": "light"
     },
     "output_type": "display_data"
    }
   ],
   "source": [
    "\n",
    "Ytrue = data['y']\n",
    "Y = data['yobs']\n",
    "\n",
    "plt.plot(times, Ytrue, label = 'True')\n",
    "plt.plot(times, Y, label = 'Log Normal Noise')\n",
    "\n",
    "plt.legend()"
   ]
  },
  {
   "cell_type": "code",
   "execution_count": null,
   "metadata": {},
   "outputs": [],
   "source": [
    "my_ODEop = ODEop(ode_model)"
   ]
  },
  {
   "cell_type": "code",
   "execution_count": null,
   "metadata": {
    "scrolled": true
   },
   "outputs": [
    {
     "name": "stderr",
     "output_type": "stream",
     "text": [
      "Auto-assigning NUTS sampler...\n",
      "Initializing NUTS using adapt_diag...\n",
      "Multiprocess sampling (2 chains in 2 jobs)\n",
      "NUTS: [sigma, alpha]\n",
      "Sampling 2 chains:  77%|███████▋  | 4624/6000 [02:03<00:29, 45.93draws/s]"
     ]
    }
   ],
   "source": [
    "# The probabilistic model\n",
    "with pm.Model() as first_model:\n",
    "\n",
    "    # Priors for unknown model parameters\n",
    "    alpha = pm.HalfNormal('alpha',1)\n",
    "\n",
    "    sigma = pm.HalfCauchy('sigma',1)\n",
    "\n",
    "    # Forward model\n",
    "    # [ODE parameter, Initial Condition]\n",
    "    all_params = pm.math.stack([alpha, 0],axis=0)\n",
    "\n",
    "    \n",
    "    ode_sol = my_ODEop(all_params)\n",
    "\n",
    "    forward = ode_sol.reshape(Y.shape)\n",
    "    \n",
    "    ode = pm.Deterministic('ode',ode_sol)\n",
    "        \n",
    "    # Likelihood \n",
    "    Y_obs = pm.Lognormal('Y_obs', mu=pm.math.log(forward), sd=sigma, observed=Y)\n",
    "    \n",
    "    trace = pm.sample(2000, tune=1000, init='adapt_diag', target_accept = 0.99)\n",
    "\n"
   ]
  },
  {
   "cell_type": "code",
   "execution_count": null,
   "metadata": {},
   "outputs": [],
   "source": [
    "alpha = data['p'][0]\n",
    "y0 = 0\n",
    "sigma = data['sigma']\n",
    "pm.posteriorplot.plot_posterior(trace,varnames = ['alpha','sigma'], ref_val=[alpha, sigma]);"
   ]
  },
  {
   "cell_type": "code",
   "execution_count": null,
   "metadata": {},
   "outputs": [],
   "source": [
    "pprint.pprint(pm.gelman_rubin(trace))\n",
    "\n",
    "pprint.pprint(pm.effective_n(trace))"
   ]
  },
  {
   "cell_type": "code",
   "execution_count": null,
   "metadata": {},
   "outputs": [],
   "source": [
    "with first_model:\n",
    "    ppc = pm.sample_ppc(trace, 2000)"
   ]
  },
  {
   "cell_type": "code",
   "execution_count": null,
   "metadata": {},
   "outputs": [],
   "source": [
    "yobs = ppc['Y_obs']\n",
    "for i in range(100):\n",
    "\n",
    "    plt.plot(times, yobs[i], color = 'C0', alpha = 0.5);\n",
    "    \n",
    "plt.plot(times,Y, color = 'red');\n",
    "plt.title('Posterior Predictive Check')"
   ]
  },
  {
   "cell_type": "code",
   "execution_count": null,
   "metadata": {},
   "outputs": [],
   "source": [
    "yobs = trace['ode']\n",
    "for i in range(100):\n",
    "\n",
    "    plt.plot(times, yobs[i], color = 'C0', alpha = 0.25);\n",
    "    \n",
    "plt.plot(times,Ytrue, color = 'red');"
   ]
  },
  {
   "cell_type": "code",
   "execution_count": null,
   "metadata": {},
   "outputs": [],
   "source": [
    "%timeit ode_model.cached_simulate([np.random.uniform(),0])"
   ]
  },
  {
   "cell_type": "code",
   "execution_count": null,
   "metadata": {},
   "outputs": [],
   "source": []
  }
 ],
 "metadata": {
  "kernelspec": {
   "display_name": "Python 3",
   "language": "python",
   "name": "python3"
  },
  "language_info": {
   "codemirror_mode": {
    "name": "ipython",
    "version": 3
   },
   "file_extension": ".py",
   "mimetype": "text/x-python",
   "name": "python",
   "nbconvert_exporter": "python",
   "pygments_lexer": "ipython3",
   "version": "3.7.3"
  }
 },
 "nbformat": 4,
 "nbformat_minor": 2
}
