{
 "cells": [
  {
   "cell_type": "code",
   "execution_count": 1,
   "metadata": {},
   "outputs": [
    {
     "name": "stderr",
     "output_type": "stream",
     "text": [
      "WARNING (theano.configdefaults): install mkl with `conda install mkl-service`: No module named 'mkl'\n"
     ]
    }
   ],
   "source": [
    "from scipy.integrate import odeint\n",
    "from scipy.stats import lognorm\n",
    "import numpy as np\n",
    "from ode_api import *\n",
    "from ode_funcs import *\n",
    "import matplotlib.pyplot as plt\n",
    "import scipy\n",
    "import pymc3 as pm\n",
    "\n",
    "THEANO_FLAGS = 'exception_verbosity=high'"
   ]
  },
  {
   "cell_type": "markdown",
   "metadata": {},
   "source": [
    "# Test 1: Scalar ODE with 1 parameter\n",
    "\n",
    "$$ y' = exp(-t) - \\alpha y \\quad y(0) = 0 $$"
   ]
  },
  {
   "cell_type": "code",
   "execution_count": 2,
   "metadata": {},
   "outputs": [],
   "source": [
    "#Specify how many stats, initial values, and ode parameters there are\n",
    "n_states = 1\n",
    "n_ics = 1\n",
    "n_odeparams = 1\n",
    "\n",
    "#Times to evaluate the solution\n",
    "times = np.arange(0.25,8,1)\n",
    "\n",
    "#Instantiate the ODEModel\n",
    "model_1 = ODEModel(odefunc = test_ode_func_1, \n",
    "                   y0 = 0,\n",
    "                   t0 = 0,\n",
    "                    times = times,\n",
    "                    n_states = n_states,\n",
    "                    n_ics = n_ics,\n",
    "                    n_odeparams = n_odeparams)"
   ]
  },
  {
   "cell_type": "code",
   "execution_count": 3,
   "metadata": {},
   "outputs": [
    {
     "data": {
      "text/plain": [
       "[<matplotlib.lines.Line2D at 0x1c2373b5f8>]"
      ]
     },
     "execution_count": 3,
     "metadata": {},
     "output_type": "execute_result"
    },
    {
     "data": {
      "image/png": "[encoded data removed]",
      "text/plain": [
       "<Figure size 432x288 with 1 Axes>"
      ]
     },
     "metadata": {
      "needs_background": "light"
     },
     "output_type": "display_data"
    }
   ],
   "source": [
    "#Simulate the data and create data to learn from\n",
    "sims, sens = model_1.simulate([0.4,0])\n",
    "\n",
    "\n",
    "Y = scipy.stats.lognorm.rvs(s = 0.1, scale = sims)\n",
    "\n",
    "\n",
    "plt.plot(times, sims)\n",
    "plt.plot(times,Y)\n",
    "\n",
    "\n"
   ]
  },
  {
   "cell_type": "code",
   "execution_count": null,
   "metadata": {},
   "outputs": [],
   "source": [
    "# Now instantiate the theano custom ODE op\n",
    "my_ODEop = ODEop(model_1)"
   ]
  },
  {
   "cell_type": "code",
   "execution_count": null,
   "metadata": {
    "scrolled": false
   },
   "outputs": [
    {
     "name": "stdout",
     "output_type": "stream",
     "text": [
      "all_params __str__ = [0.79788456 0.79788456]\n",
      "ode_sol __str__ = [0.8533013  0.70173658 0.43278432 0.23784487 0.12290488 0.0611571\n",
      " 0.02967723 0.01415011]\n",
      "forward __str__ = [[-0.15864257]\n",
      " [-0.35419719]\n",
      " [-0.83751578]\n",
      " [-1.43613664]\n",
      " [-2.09634455]\n",
      " [-2.79430928]\n",
      " [-3.51737528]\n",
      " [-4.258033  ]]\n"
     ]
    },
    {
     "name": "stderr",
     "output_type": "stream",
     "text": [
      "Auto-assigning NUTS sampler...\n",
      "Initializing NUTS using adapt_diag...\n",
      "Multiprocess sampling (2 chains in 2 jobs)\n",
      "NUTS: [sigma, y0, alpha]\n",
      "Sampling 2 chains:   3%|▎         | 68/2000 [00:29<29:24,  1.09draws/s]"
     ]
    }
   ],
   "source": [
    "# The probabilistic model\n",
    "with pm.Model() as first_model:\n",
    "\n",
    "    # Priors for unknown model parameters\n",
    "    alpha = pm.HalfNormal('alpha',1)\n",
    "    y0 = pm.HalfNormal('y0',1)\n",
    "    sigma = pm.HalfCauchy('sigma',1)\n",
    "\n",
    "    # Forward model\n",
    "    all_params = pm.math.stack([alpha, y0],axis=0)\n",
    "    pprint = tt.printing.Print('all_params')(all_params)\n",
    "    \n",
    "    ode_sol = my_ODEop(all_params)\n",
    "    oprint = tt.printing.Print('ode_sol')(ode_sol)\n",
    "    \n",
    "    forward = ode_sol.reshape(Y.shape)\n",
    "    fprint = tt.printing.Print('forward')(pm.math.log(forward))\n",
    "    \n",
    "    \n",
    "\n",
    "    # Likelihood \n",
    "    Y_obs = pm.Lognormal('Y_obs', mu=pm.math.log(forward), sd=sigma, observed=Y)\n",
    "#     Y_obs = pm.Normal('Y_obs', mu=forward, sd=sigma, observed=Y)\n",
    "#     Y_obs = pm.Lognormal('Y_obs', mu=forward, sd=sigma, observed=Y)\n",
    "    \n",
    "    trace = pm.sample(500, tune=500, init='adapt_diag', target_accept = 0.99)\n",
    "\n",
    "pm.traceplot(trace)\n",
    "\n",
    "plt.show()"
   ]
  },
  {
   "cell_type": "code",
   "execution_count": null,
   "metadata": {},
   "outputs": [],
   "source": [
    "pm.posteriorplot.plot_posterior(trace);\n"
   ]
  },
  {
   "cell_type": "code",
   "execution_count": null,
   "metadata": {},
   "outputs": [],
   "source": [
    "print(pm.gelman_rubin(trace))\n",
    "\n",
    "print(pm.effective_n(trace))"
   ]
  },
  {
   "cell_type": "markdown",
   "metadata": {},
   "source": [
    "# Test 2: Scalar ODE with 2 Parameters"
   ]
  },
  {
   "cell_type": "code",
   "execution_count": null,
   "metadata": {},
   "outputs": [],
   "source": [
    "#Specify how many stats, initial values, and ode parameters there are\n",
    "n_states = 1\n",
    "n_ics = 1\n",
    "n_odeparams = 2\n",
    "\n",
    "#Times to evaluate the solution\n",
    "times = np.arange(0.25,8,1)\n",
    "\n",
    "#Instantiate the ODEModel\n",
    "model_2 = ODEModel(odefunc = test_ode_func_2, \n",
    "                   y0 = 0,\n",
    "                   t0 = 0,\n",
    "                    times = times,\n",
    "                    n_states = n_states,\n",
    "                    n_ics = n_ics,\n",
    "                    n_odeparams = n_odeparams)"
   ]
  },
  {
   "cell_type": "code",
   "execution_count": null,
   "metadata": {},
   "outputs": [],
   "source": [
    "f = augment_system(test_ode_func_2)"
   ]
  },
  {
   "cell_type": "code",
   "execution_count": null,
   "metadata": {},
   "outputs": [],
   "source": []
  },
  {
   "cell_type": "code",
   "execution_count": null,
   "metadata": {},
   "outputs": [],
   "source": []
  }
 ],
 "metadata": {
  "kernelspec": {
   "display_name": "Python 3",
   "language": "python",
   "name": "python3"
  },
  "language_info": {
   "codemirror_mode": {
    "name": "ipython",
    "version": 3
   },
   "file_extension": ".py",
   "mimetype": "text/x-python",
   "name": "python",
   "nbconvert_exporter": "python",
   "pygments_lexer": "ipython3",
   "version": "3.7.3"
  }
 },
 "nbformat": 4,
 "nbformat_minor": 2
}
