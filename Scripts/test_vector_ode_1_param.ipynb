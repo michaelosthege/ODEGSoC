{
 "cells": [
  {
   "cell_type": "code",
   "execution_count": 1,
   "metadata": {},
   "outputs": [],
   "source": [
    "from scipy.integrate import odeint\n",
    "from scipy.stats import lognorm\n",
    "import numpy as np\n",
    "from ode_api import *\n",
    "from ode_funcs import *\n",
    "import matplotlib.pyplot as plt\n",
    "import scipy\n",
    "import pymc3 as pm\n",
    "\n",
    "THEANO_FLAGS = 'exception_verbosity=high'"
   ]
  },
  {
   "cell_type": "markdown",
   "metadata": {},
   "source": [
    "# Test: Vector ODE with 1 parameter\n",
    "\n",
    "$$ S'= -R_0 S I \\quad S(0) = 0.99 $$\n",
    "\n",
    "$$ I' = R_0 S I - I \\quad I(0) = 0.01 $$"
   ]
  },
  {
   "cell_type": "code",
   "execution_count": 2,
   "metadata": {},
   "outputs": [],
   "source": [
    "#Specify how many stats, initial values, and ode parameters there are\n",
    "n_states = 2\n",
    "n_ics = 2\n",
    "n_odeparams = 1\n",
    "\n",
    "#Times to evaluate the solution\n",
    "times = np.arange(0.25,6,0.5)\n",
    "\n",
    "#Instantiate the ODEModel\n",
    "model_1 = ODEModel(odefunc = test_ode_func_3, \n",
    "                   y0 = [0.99,0.01],\n",
    "                   t0 = 0,\n",
    "                    times = times,\n",
    "                    n_states = n_states,\n",
    "                    n_ics = n_ics,\n",
    "                    n_odeparams = n_odeparams)"
   ]
  },
  {
   "cell_type": "code",
   "execution_count": 3,
   "metadata": {},
   "outputs": [
    {
     "data": {
      "text/plain": [
       "[<matplotlib.lines.Line2D at 0x1c230cde48>,\n",
       " <matplotlib.lines.Line2D at 0x1c27739358>]"
      ]
     },
     "execution_count": 3,
     "metadata": {},
     "output_type": "execute_result"
    },
    {
     "data": {
      "image/png": "[encoded data removed]",
      "text/plain": [
       "<Figure size 432x288 with 1 Axes>"
      ]
     },
     "metadata": {
      "needs_background": "light"
     },
     "output_type": "display_data"
    }
   ],
   "source": [
    "#Simulate the data and create data to learn from\n",
    "sims, sens = model_1.simulate([8, 0.99,0.01])\n",
    "\n",
    "\n",
    "S = scipy.stats.lognorm.rvs(s = 0.1, scale = sims[:,0])\n",
    "I = scipy.stats.lognorm.rvs(s = 0.25, scale = sims[:,1])\n",
    "\n",
    "Y = np.vstack([S,I])\n",
    "\n",
    "plt.plot(times, sims)\n",
    "\n",
    "plt.plot(times, Y.T)\n"
   ]
  },
  {
   "cell_type": "code",
   "execution_count": 4,
   "metadata": {},
   "outputs": [],
   "source": [
    "# Now instantiate the theano custom ODE op\n",
    "my_ODEop = ODEop(model_1)"
   ]
  },
  {
   "cell_type": "code",
   "execution_count": null,
   "metadata": {
    "scrolled": false
   },
   "outputs": [
    {
     "name": "stderr",
     "output_type": "stream",
     "text": [
      "Auto-assigning NUTS sampler...\n",
      "Initializing NUTS using adapt_diag...\n"
     ]
    },
    {
     "name": "stdout",
     "output_type": "stream",
     "text": [
      "all_params __str__ = [2.   0.99 0.01]\n",
      "ode_sol __str__ = [0.98440937 0.01275908 0.96842422 0.02055843 0.9434628  0.0324632\n",
      " 0.90592698 0.0496999  0.85252832 0.07272242 0.78215713 0.10001823\n",
      " 0.6979595  0.12726857 0.60765382 0.14829638 0.52080681 0.1580303\n",
      " 0.44487283 0.15516893 0.3831498  0.14221075 0.33539553 0.12340726]\n",
      "forward __str__ = [[-0.01571344 -4.36151245 -0.03208504 -3.88448443 -0.05819834 -3.42764828\n",
      "  -0.09879658 -3.00175229 -0.15954885 -2.6211055  -0.24569963 -2.30240283]\n",
      " [-0.3595942  -2.06145572 -0.49814994 -1.90854244 -0.65237612 -1.84496849\n",
      "  -0.80996681 -1.86324088 -0.95932925 -1.95044519 -1.09244475 -2.09226533]]\n"
     ]
    },
    {
     "name": "stderr",
     "output_type": "stream",
     "text": [
      "Multiprocess sampling (4 chains in 4 jobs)\n",
      "NUTS: [sigma, R]\n",
      "Sampling 4 chains:  16%|█▌        | 1940/12000 [06:02<44:42,  3.75draws/s]  "
     ]
    }
   ],
   "source": [
    "# The probabilistic model\n",
    "with pm.Model() as first_model:\n",
    "\n",
    "    # Priors for unknown model parameters\n",
    "    BoundNormal = pm.Bound(pm.Normal,lower = 1)\n",
    "    \n",
    "    R = BoundNormal('R', mu = 1, sd = 5)\n",
    "    \n",
    "    sigma = pm.HalfCauchy('sigma',1)\n",
    "\n",
    "    # Forward model\n",
    "    all_params = pm.math.stack([R,0.99,0.01],axis=0)\n",
    "    pprint = tt.printing.Print('all_params')(all_params)\n",
    "    \n",
    "    ode_sol = my_ODEop(all_params)\n",
    "    oprint = tt.printing.Print('ode_sol')(ode_sol)\n",
    "    \n",
    "    forward = ode_sol.reshape(Y.shape)\n",
    "    fprint = tt.printing.Print('forward')(pm.math.log(forward))\n",
    "    \n",
    "    \n",
    "\n",
    "    # Likelihood \n",
    "    Y_obs = pm.Lognormal('Y_obs', mu=pm.math.log(forward), sd=sigma, observed=Y)\n",
    "#     Y_obs = pm.Normal('Y_obs', mu=forward, sd=sigma, observed=Y)\n",
    "#     Y_obs = pm.Lognormal('Y_obs', mu=forward, sd=sigma, observed=Y)\n",
    "    \n",
    "    trace = pm.sample(2000, tune=1000, chains = 4, init='adapt_diag', target_accept = 0.99)\n",
    "\n",
    "pm.traceplot(trace)\n",
    "\n",
    "plt.show()"
   ]
  },
  {
   "cell_type": "code",
   "execution_count": null,
   "metadata": {},
   "outputs": [],
   "source": [
    "pm.posteriorplot.plot_posterior(trace);\n"
   ]
  },
  {
   "cell_type": "code",
   "execution_count": null,
   "metadata": {},
   "outputs": [],
   "source": [
    "print(pm.gelman_rubin(trace))\n",
    "\n",
    "print(pm.effective_n(trace))"
   ]
  },
  {
   "cell_type": "code",
   "execution_count": null,
   "metadata": {},
   "outputs": [],
   "source": [
    "with first_model:\n",
    "    yppc = pm.sample_ppc(trace)"
   ]
  },
  {
   "cell_type": "code",
   "execution_count": null,
   "metadata": {},
   "outputs": [],
   "source": [
    "Y_obs  = yppc['Y_obs']\n",
    "\n",
    "for i in range(100):\n",
    "    \n",
    "    plt.plot(times, Y_obs[i].T, alpha = 0.25, color = 'C0')\n",
    "    \n",
    "plt.plot(times,sims, color = 'red')"
   ]
  },
  {
   "cell_type": "code",
   "execution_count": null,
   "metadata": {},
   "outputs": [],
   "source": []
  }
 ],
 "metadata": {
  "kernelspec": {
   "display_name": "Python 3",
   "language": "python",
   "name": "python3"
  },
  "language_info": {
   "codemirror_mode": {
    "name": "ipython",
    "version": 3
   },
   "file_extension": ".py",
   "mimetype": "text/x-python",
   "name": "python",
   "nbconvert_exporter": "python",
   "pygments_lexer": "ipython3",
   "version": "3.6.8"
  }
 },
 "nbformat": 4,
 "nbformat_minor": 2
}
