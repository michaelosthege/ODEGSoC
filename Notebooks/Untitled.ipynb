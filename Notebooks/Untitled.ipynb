{
 "cells": [
  {
   "cell_type": "code",
   "execution_count": 1,
   "metadata": {},
   "outputs": [
    {
     "name": "stderr",
     "output_type": "stream",
     "text": [
      "WARNING (theano.configdefaults): install mkl with `conda install mkl-service`: No module named 'mkl'\n"
     ]
    }
   ],
   "source": [
    "from scipy.integrate import odeint\n",
    "import numpy as np\n",
    "import theano \n",
    "import theano.tensor as tt\n",
    "import scipy\n",
    "import matplotlib.pyplot as plt\n",
    "import pymc3 as pm\n",
    "%matplotlib inline\n",
    "THEANO_FLAGS='optimizer=fast_compile'"
   ]
  },
  {
   "cell_type": "code",
   "execution_count": 2,
   "metadata": {},
   "outputs": [],
   "source": [
    "def f(y, t, theta):\n",
    "    \"\"\"\"This is the ODE system.\n",
    "    \n",
    "    The function can act on either numpy arrays or theano TensorVariables\n",
    "    \n",
    "    Args:\n",
    "        y (vector): system state\n",
    "        t (float): current time (optional)\n",
    "        theta (vector): parameters of the ODEs\n",
    "        \n",
    "    Returns:\n",
    "        dydt (list): result of the ODEs\n",
    "    \"\"\"\n",
    "    return [\n",
    "        -theta*y[0]*y[1],   #= dS/dt\n",
    "        theta*y[0]*y[1] - y[1] #= dI/dt\n",
    "            ]"
   ]
  },
  {
   "cell_type": "code",
   "execution_count": 3,
   "metadata": {},
   "outputs": [],
   "source": [
    "n_states = 2\n",
    "n_odeparams = 1\n",
    "n_ivs = 2\n",
    "\n",
    "class ODEModel(object):\n",
    "    \n",
    "    def __init__(self, odefunc, n_states, n_odeparams, n_ivs, y0):\n",
    "        \n",
    "        self.odefunc = odefunc\n",
    "        self._n_states = n_states\n",
    "        self._n_odeparams = n_odeparams\n",
    "        self._n_ivs = n_ivs\n",
    "        self._y0 = y0\n",
    "        \n",
    "        self.system = self._create_system()\n",
    "        \n",
    "    def _create_system(self):\n",
    "        #Define the differential Equation\n",
    "\n",
    "        #Present state of the system\n",
    "        y = tt.dvector('y')\n",
    "        #Parameter\n",
    "        #TODO:  Allow for multiple parameters.  Maybe let this be a vector?\n",
    "        p = tt.dscalar('p')\n",
    "        #Present state of the gradients: will always be 0 unless the parameter is the inital condition\n",
    "        dydp = tt.dvector('dydp')\n",
    "\n",
    "        f_tensor = tt.stack(self.odefunc(y, None, p))\n",
    "\n",
    "        #Now compute gradients\n",
    "        #Use Rop to compute the Jacobian vector product\n",
    "        Jdfdy = tt.Rop(f_tensor, y, dydp)\n",
    "\n",
    "        grad_f = tt.jacobian(f_tensor, p)\n",
    "        #This is the time derivative of dydp\n",
    "        ddt_dydp = Jdfdy + grad_f\n",
    "\n",
    "\n",
    "        #Compile the system as a theano function\n",
    "        #Args:\n",
    "            #y - array of length 2 representing current state of the system (S and I)\n",
    "            #dydp - array of length 2 representing current state of the gradient (dS/dp and dI/dp)\n",
    "        system = theano.function(\n",
    "            inputs=[y, dydp, p],\n",
    "            outputs=[f_tensor, ddt_dydp])\n",
    "        \n",
    "        return system\n",
    "    \n",
    "    def odesys(self,Y,t,p):\n",
    "\n",
    "        \"\"\"\n",
    "        This is the function that wull be passed to odeint.\n",
    "        Solves both ODE and sensitivities\n",
    "        \n",
    "        Args:\n",
    "            Y (vector): current state and current gradient state\n",
    "            t (scalar): current time\n",
    "            p (vector): parameters\n",
    "\n",
    "        Returns:\n",
    "            derivatives (vector): derivatives of state and gradient\n",
    "        \"\"\"\n",
    "        dydt, dydp = self.system(Y[:2], Y[2:], p)\n",
    "        return np.concatenate([dydt, dydp])\n",
    "    \n",
    "    def simulate(self, parameters, times):\n",
    "        \n",
    "        return scipy.integrate.odeint(func = self.odesys, t = times, y0 = self._y0, args = tuple(parameters))\n",
    "        "
   ]
  },
  {
   "cell_type": "code",
   "execution_count": 4,
   "metadata": {},
   "outputs": [
    {
     "data": {
      "text/plain": [
       "[<matplotlib.lines.Line2D at 0x1c194b2f60>,\n",
       " <matplotlib.lines.Line2D at 0x1c194be0f0>,\n",
       " <matplotlib.lines.Line2D at 0x1c194be240>,\n",
       " <matplotlib.lines.Line2D at 0x1c194be390>]"
      ]
     },
     "execution_count": 4,
     "metadata": {},
     "output_type": "execute_result"
    },
    {
     "data": {
      "image/png": "[encoded data removed]",
      "text/plain": [
       "<Figure size 432x288 with 1 Axes>"
      ]
     },
     "metadata": {
      "needs_background": "light"
     },
     "output_type": "display_data"
    }
   ],
   "source": [
    "ode_model = ODEModel( odefunc = f, n_states = 2, n_odeparams = 1, n_ivs = 2, y0 = [0.99,0.01, 0,0])\n",
    "sims = ode_model.simulate(parameters = [8], times = np.linspace(0,5,101) )\n",
    "\n",
    "plt.plot(sims)\n"
   ]
  },
  {
   "cell_type": "code",
   "execution_count": 5,
   "metadata": {},
   "outputs": [
    {
     "data": {
      "text/plain": [
       "[<matplotlib.lines.Line2D at 0x1c1959f5f8>]"
      ]
     },
     "execution_count": 5,
     "metadata": {},
     "output_type": "execute_result"
    },
    {
     "data": {
      "image/png": "[encoded data removed]",
      "text/plain": [
       "<Figure size 432x288 with 1 Axes>"
      ]
     },
     "metadata": {
      "needs_background": "light"
     },
     "output_type": "display_data"
    }
   ],
   "source": [
    "#Create data to learn from\n",
    "S = scipy.stats.lognorm.rvs(s = 0.5, scale = sims[:,0])\n",
    "I = scipy.stats.lognorm.rvs(s = 0.1, scale = sims[:,1])\n",
    "S[0] = 0.99\n",
    "I[0] = 0.01\n",
    "plt.plot(S)\n",
    "plt.plot(I)\n"
   ]
  },
  {
   "cell_type": "code",
   "execution_count": 6,
   "metadata": {},
   "outputs": [],
   "source": [
    "##Peoblem here\n",
    "class solveCached(object):\n",
    "    def __init__(self, times, n_params, n_outputs):\n",
    "      \n",
    "        self._times = times\n",
    "        self._n_params = n_params\n",
    "        self._n_outputs = n_outputs\n",
    "        self._cachedParam = np.zeros(n_params)\n",
    "        self._cachedSens = np.zeros((len(times), n_outputs, n_params))\n",
    "        self._cachedState = np.zeros((len(times),n_outputs))\n",
    "        \n",
    "    def __call__(self, x):\n",
    "        \n",
    "        if np.all(x==self._cachedParam):\n",
    "            state, sens = self._cachedState, self._cachedSens\n",
    "            \n",
    "        else:\n",
    "            sol = ode_model.simulate(x, times)\n",
    "            state = sol[:,:2]\n",
    "            sens = sol[:,2:]\n",
    "        \n",
    "        return state,sens\n",
    "    \n",
    "times = np.linspace(0,5,101)\n",
    "cached_solver=solveCached(times, n_odeparams + n_ivs, n_states)"
   ]
  },
  {
   "cell_type": "code",
   "execution_count": 7,
   "metadata": {},
   "outputs": [],
   "source": [
    "def state(x):\n",
    "    State, Sens = cached_solver(np.array(x,dtype=np.float64))\n",
    "    cached_solver._cachedState, cached_solver._cachedSens, cached_solver._cachedParam = State, Sens, x\n",
    "    return State.reshape((2*len(State),))\n",
    "\n",
    "def numpy_vsp(x, g):    \n",
    "    numpy_sens = cached_solver(np.array(x,dtype=np.float64))[1].reshape((n_states*len(times),len(x)))\n",
    "    return numpy_sens.T.dot(g)"
   ]
  },
  {
   "cell_type": "code",
   "execution_count": 8,
   "metadata": {},
   "outputs": [],
   "source": [
    "class ODEGradop(theano.Op):\n",
    "    def __init__(self, numpy_vsp):\n",
    "        self._numpy_vsp = numpy_vsp\n",
    "\n",
    "    def make_node(self, x, g):\n",
    "        x = theano.tensor.as_tensor_variable(x)\n",
    "        g = theano.tensor.as_tensor_variable(g)\n",
    "        node = theano.Apply(self, [x, g], [g.type()])\n",
    "        return node\n",
    "\n",
    "    def perform(self, node, inputs_storage, output_storage):\n",
    "        x = inputs_storage[0]\n",
    "\n",
    "        g = inputs_storage[1]\n",
    "        out = output_storage[0]\n",
    "        out[0] = self._numpy_vsp(x, g)       # get the numerical VSP\n",
    "        "
   ]
  },
  {
   "cell_type": "code",
   "execution_count": 9,
   "metadata": {},
   "outputs": [],
   "source": [
    "class ODEop(theano.Op):\n",
    "\n",
    "    def __init__(self, state, numpy_vsp):\n",
    "        self._state = state\n",
    "        self._numpy_vsp = numpy_vsp\n",
    "\n",
    "    def make_node(self, x):\n",
    "        x = theano.tensor.as_tensor_variable(x)\n",
    "\n",
    "        return theano.Apply(self, [x], [x.type()])\n",
    "\n",
    "    def perform(self, node, inputs_storage, output_storage):\n",
    "        x = inputs_storage[0]\n",
    "        out = output_storage[0]\n",
    "        \n",
    "        out[0] = self._state(x)               # get the numerical solution of ODE states\n",
    "\n",
    "    def grad(self, inputs, output_grads):\n",
    "        x = inputs[0]\n",
    "        g = output_grads[0]\n",
    "\n",
    "        grad_op = ODEGradop(self._numpy_vsp)  # pass the VSP when asked for gradient \n",
    "        grad_op_apply = grad_op(x, g)\n",
    "        \n",
    "        return [grad_op_apply]"
   ]
  },
  {
   "cell_type": "code",
   "execution_count": 10,
   "metadata": {},
   "outputs": [
    {
     "name": "stderr",
     "output_type": "stream",
     "text": [
      "Auto-assigning NUTS sampler...\n",
      "Initializing NUTS using adapt_diag...\n",
      "Multiprocess sampling (2 chains in 2 jobs)\n",
      "NUTS: [sigma, R0]\n",
      "Sampling 2 chains: 100%|██████████| 5000/5000 [04:11<00:00, 16.09draws/s]\n"
     ]
    },
    {
     "data": {
      "text/plain": [
       "0"
      ]
     },
     "execution_count": 10,
     "metadata": {},
     "output_type": "execute_result"
    }
   ],
   "source": [
    "theano.config.exception_verbosity= 'high'\n",
    "theano.config.floatX = 'float64'\n",
    "\n",
    "\n",
    "# Define the data matrix\n",
    "Y = np.vstack((S,I)).T\n",
    "\n",
    "# Now instantiate the theano custom ODE op\n",
    "my_ODEop = ODEop(state,numpy_vsp)\n",
    "\n",
    "# The probabilistic model\n",
    "with pm.Model() as LV_model:\n",
    "\n",
    "    # Priors for unknown model parameters\n",
    "    \n",
    "    \n",
    "    \n",
    "    p = pm.Normal('R0', mu = 6, sd = 0.5)\n",
    "    \n",
    "    sigma = pm.Lognormal('sigma', mu=-1, sd=1, shape=2)\n",
    "\n",
    "    # Forward model\n",
    "    all_params = pm.math.stack([p],axis=0)\n",
    "    ode_sol = my_ODEop(all_params)\n",
    "    forward = ode_sol.reshape(Y.shape)\n",
    "\n",
    "    # Likelihood \n",
    "    Y_obs = pm.Lognormal('Y_obs', mu=pm.math.log(forward), sd=sigma, observed=Y)\n",
    "    \n",
    "    trace = pm.sample(1500, tune=1000, init='adapt_diag')\n",
    "trace['diverging'].sum()"
   ]
  },
  {
   "cell_type": "code",
   "execution_count": 11,
   "metadata": {},
   "outputs": [
    {
     "data": {
      "text/plain": [
       "{'R0': 0.9996669909270953, 'sigma': array([0.99975133, 1.00008031])}"
      ]
     },
     "execution_count": 11,
     "metadata": {},
     "output_type": "execute_result"
    }
   ],
   "source": [
    "pm.gelman_rubin(trace)"
   ]
  },
  {
   "cell_type": "code",
   "execution_count": 12,
   "metadata": {},
   "outputs": [
    {
     "data": {
      "text/plain": [
       "array([<matplotlib.axes._subplots.AxesSubplot object at 0x1c195d6780>,\n",
       "       <matplotlib.axes._subplots.AxesSubplot object at 0x1c1a0bf940>,\n",
       "       <matplotlib.axes._subplots.AxesSubplot object at 0x1c1a0efb70>],\n",
       "      dtype=object)"
      ]
     },
     "execution_count": 12,
     "metadata": {},
     "output_type": "execute_result"
    },
    {
     "data": {
      "image/png": "[encoded data removed]",
      "text/plain": [
       "<Figure size 864x360 with 4 Axes>"
      ]
     },
     "metadata": {
      "needs_background": "light"
     },
     "output_type": "display_data"
    }
   ],
   "source": [
    "pm.posteriorplot.plot_posterior(trace)"
   ]
  },
  {
   "cell_type": "code",
   "execution_count": 13,
   "metadata": {},
   "outputs": [
    {
     "name": "stderr",
     "output_type": "stream",
     "text": [
      "/Users/demetri/miniconda3/lib/python3.7/site-packages/ipykernel_launcher.py:1: DeprecationWarning: sample_ppc() is deprecated.  Please use sample_posterior_predictive()\n",
      "  \"\"\"Entry point for launching an IPython kernel.\n",
      "100%|██████████| 500/500 [00:11<00:00, 38.14it/s]\n"
     ]
    }
   ],
   "source": [
    "ppc_samples = pm.sample_ppc(trace, samples=500, model=LV_model)['Y_obs']\n"
   ]
  },
  {
   "cell_type": "code",
   "execution_count": 23,
   "metadata": {},
   "outputs": [
    {
     "data": {
      "image/png": "[encoded data removed]",
      "text/plain": [
       "<Figure size 432x288 with 1 Axes>"
      ]
     },
     "metadata": {
      "needs_background": "light"
     },
     "output_type": "display_data"
    }
   ],
   "source": [
    "for i in range(100):\n",
    "    ppc = ppc_samples[i]\n",
    "    plt.plot(ppc[:,0], alpha = 0.1, color = 'C0')\n",
    "    plt.plot(ppc[:,1], alpha = 0.1, color = 'C1')"
   ]
  },
  {
   "cell_type": "code",
   "execution_count": null,
   "metadata": {},
   "outputs": [],
   "source": []
  }
 ],
 "metadata": {
  "kernelspec": {
   "display_name": "Python 3",
   "language": "python",
   "name": "python3"
  },
  "language_info": {
   "codemirror_mode": {
    "name": "ipython",
    "version": 3
   },
   "file_extension": ".py",
   "mimetype": "text/x-python",
   "name": "python",
   "nbconvert_exporter": "python",
   "pygments_lexer": "ipython3",
   "version": "3.7.3"
  }
 },
 "nbformat": 4,
 "nbformat_minor": 2
}
