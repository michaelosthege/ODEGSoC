{
 "cells": [
  {
   "cell_type": "code",
   "execution_count": 1,
   "metadata": {},
   "outputs": [
    {
     "name": "stderr",
     "output_type": "stream",
     "text": [
      "WARNING (theano.configdefaults): install mkl with `conda install mkl-service`: No module named 'mkl'\n"
     ]
    }
   ],
   "source": [
    "\n",
    "\n",
    "from scipy.integrate import odeint\n",
    "import numpy as np\n",
    "import theano \n",
    "from theano import *\n",
    "import matplotlib.pyplot as plt\n",
    "%matplotlib inline\n",
    "THEANO_FLAGS='optimizer=fast_compile'\n",
    "\n"
   ]
  },
  {
   "cell_type": "code",
   "execution_count": 2,
   "metadata": {},
   "outputs": [],
   "source": [
    "n_states = 2\n",
    "n_odeparams = 4\n",
    "n_ivs = 2\n",
    "\n",
    "class LotkaVolterraModel(object):  \n",
    "    def __init__(self, n_states, n_odeparams, n_ivs, y0=None):\n",
    "        self._n_states = n_states\n",
    "        self._n_odeparams = n_odeparams\n",
    "        self._n_ivs = n_ivs\n",
    "        self._y0 = y0\n",
    "    def simulate(self, parameters, times):\n",
    "        return self._simulate(parameters, times, False)\n",
    "    def simulate_with_sensitivities(self, parameters, times):\n",
    "        return self._simulate(parameters, times, True)\n",
    "    def _simulate(self, parameters, times, sensitivities): \n",
    "        alpha, beta, gamma, delta, Xt0, Yt0 = [x for x in parameters]\n",
    "        def r(y, t, p):\n",
    "            X, Y = y\n",
    "            dX_dt = alpha*X - beta*X*Y\n",
    "            dY_dt = -gamma*Y + delta*X*Y\n",
    "            return dX_dt, dY_dt\n",
    "        if sensitivities:\n",
    "            def jac(y):\n",
    "                X, Y = y\n",
    "                ret = np.zeros((self._n_states, self._n_states))\n",
    "                ret[0, 0] = alpha - beta*Y\n",
    "                ret[0, 1] = - beta*X\n",
    "                ret[1, 0] = delta*Y\n",
    "                ret[1, 1] = -gamma + delta*X\n",
    "                return ret\n",
    "            def dfdp(y):\n",
    "                X, Y = y\n",
    "                ret = np.zeros((self._n_states, \n",
    "                                self._n_odeparams + self._n_ivs)) # except the following entries\n",
    "                ret[0, 0] = X      # \\frac{\\partial  [\\alpha X - \\beta XY]}{\\partial \\alpha}, and so on...\n",
    "                ret[0, 1] = - X*Y\n",
    "                ret[1, 2] = -Y\n",
    "                ret[1, 3] = X*Y \n",
    "\n",
    "                return ret\n",
    "            def rhs(y_and_dydp, t, p):\n",
    "                y = y_and_dydp[0:self._n_states]\n",
    "                dydp = y_and_dydp[self._n_states:].reshape((self._n_states, \n",
    "                                                            self._n_odeparams + self._n_ivs))\n",
    "                dydt = r(y, t, p)\n",
    "                d_dydp_dt = np.matmul(jac(y), dydp) + dfdp(y)\n",
    "                return np.concatenate((dydt, d_dydp_dt.reshape(-1)))\n",
    "            y0 = np.zeros( (2*(n_odeparams+n_ivs)) + n_states )\n",
    "            y0[6] = 1.            #\\frac{\\partial  [X]}{\\partial Xt0} at t==0, and same below for Y\n",
    "            y0[13] = 1.         \n",
    "            y0[0:n_states] = [Xt0, Yt0]\n",
    "            result = odeint(rhs, y0, times, (parameters,),rtol=1e-6,atol=1e-5)\n",
    "            values = result[:, 0:self._n_states]\n",
    "            dvalues_dp = result[:, self._n_states:].reshape((len(times), \n",
    "                                                             self._n_states, \n",
    "                                                             self._n_odeparams + self._n_ivs))\n",
    "            return values, dvalues_dp\n",
    "        else:\n",
    "            values = odeint(r, [Xt0, Yt0], times, (parameters,),rtol=1e-6,atol=1e-5)\n",
    "            return values        \n",
    "ode_model = LotkaVolterraModel(n_states, n_odeparams, n_ivs)"
   ]
  },
  {
   "cell_type": "code",
   "execution_count": 3,
   "metadata": {},
   "outputs": [],
   "source": [
    "class ODEGradop(theano.Op):\n",
    "    def __init__(self, numpy_vsp):\n",
    "        self._numpy_vsp = numpy_vsp\n",
    "\n",
    "    def make_node(self, x, g):\n",
    "        x = theano.tensor.as_tensor_variable(x)\n",
    "        g = theano.tensor.as_tensor_variable(g)\n",
    "        node = theano.Apply(self, [x, g], [g.type()])\n",
    "        return node\n",
    "\n",
    "    def perform(self, node, inputs_storage, output_storage):\n",
    "        x = inputs_storage[0]\n",
    "\n",
    "        g = inputs_storage[1]\n",
    "        out = output_storage[0]\n",
    "        out[0] = self._numpy_vsp(x, g)       # get the numerical VSP\n",
    "        \n",
    "class ODEop(theano.Op):\n",
    "\n",
    "    def __init__(self, state, numpy_vsp):\n",
    "        self._state = state\n",
    "        self._numpy_vsp = numpy_vsp\n",
    "\n",
    "    def make_node(self, x):\n",
    "        x = theano.tensor.as_tensor_variable(x)\n",
    "\n",
    "        return theano.Apply(self, [x], [x.type()])\n",
    "\n",
    "    def perform(self, node, inputs_storage, output_storage):\n",
    "        x = inputs_storage[0]\n",
    "        out = output_storage[0]\n",
    "        \n",
    "        out[0] = self._state(x)               # get the numerical solution of ODE states\n",
    "\n",
    "    def grad(self, inputs, output_grads):\n",
    "        x = inputs[0]\n",
    "        g = output_grads[0]\n",
    "\n",
    "        grad_op = ODEGradop(self._numpy_vsp)  # pass the VSP when asked for gradient \n",
    "        grad_op_apply = grad_op(x, g)\n",
    "        \n",
    "        return [grad_op_apply]"
   ]
  },
  {
   "cell_type": "code",
   "execution_count": 4,
   "metadata": {},
   "outputs": [],
   "source": [
    "class solveCached(object):\n",
    "    def __init__(self, times, n_params, n_outputs):\n",
    "      \n",
    "        self._times = times\n",
    "        self._n_params = n_params\n",
    "        self._n_outputs = n_outputs\n",
    "        self._cachedParam = np.zeros(n_params)\n",
    "        self._cachedSens = np.zeros((len(times), n_outputs, n_params))\n",
    "        self._cachedState = np.zeros((len(times),n_outputs))\n",
    "        \n",
    "    def __call__(self, x):\n",
    "        \n",
    "        if np.all(x==self._cachedParam):\n",
    "            state, sens = self._cachedState, self._cachedSens\n",
    "            \n",
    "        else:\n",
    "            state, sens = ode_model.simulate_with_sensitivities(x, times)\n",
    "        \n",
    "        return state, sens\n",
    "times = np.arange(0, 21) # number of measurement points (see below)   \n",
    "cached_solver=solveCached(times, n_odeparams + n_ivs, n_states)"
   ]
  },
  {
   "cell_type": "code",
   "execution_count": 5,
   "metadata": {},
   "outputs": [],
   "source": [
    "def state(x):\n",
    "    State, Sens = cached_solver(np.array(x,dtype=np.float64))\n",
    "    cached_solver._cachedState, cached_solver._cachedSens, cached_solver._cachedParam = State, Sens, x\n",
    "    return State.reshape((2*len(State),))\n",
    "\n",
    "def numpy_vsp(x, g):    \n",
    "    numpy_sens = cached_solver(np.array(x,dtype=np.float64))[1].reshape((n_states*len(times),len(x)))\n",
    "    return numpy_sens.T.dot(g)"
   ]
  },
  {
   "cell_type": "code",
   "execution_count": 10,
   "metadata": {},
   "outputs": [],
   "source": [
    "y,sens = ode_model.simulate_with_sensitivities(parameters = [1,2,2,4,10,10], times = times)"
   ]
  },
  {
   "cell_type": "code",
   "execution_count": 20,
   "metadata": {},
   "outputs": [],
   "source": [
    "y0 = np.zeros( (2*(n_odeparams+n_ivs)) + n_states )\n",
    "y0[6] = 1.            #\\frac{\\partial  [X]}{\\partial Xt0} at t==0, and same below for Y\n",
    "y0[13] = 1. \n",
    "y0[0:n_states] = [10, 10]"
   ]
  },
  {
   "cell_type": "code",
   "execution_count": 21,
   "metadata": {},
   "outputs": [
    {
     "data": {
      "text/plain": [
       "array([10., 10.,  0.,  0.,  0.,  0.,  1.,  0.,  0.,  0.,  0.,  0.,  0.,\n",
       "        1.])"
      ]
     },
     "execution_count": 21,
     "metadata": {},
     "output_type": "execute_result"
    }
   ],
   "source": [
    "y0"
   ]
  },
  {
   "cell_type": "code",
   "execution_count": null,
   "metadata": {},
   "outputs": [],
   "source": []
  }
 ],
 "metadata": {
  "kernelspec": {
   "display_name": "Python 3",
   "language": "python",
   "name": "python3"
  },
  "language_info": {
   "codemirror_mode": {
    "name": "ipython",
    "version": 3
   },
   "file_extension": ".py",
   "mimetype": "text/x-python",
   "name": "python",
   "nbconvert_exporter": "python",
   "pygments_lexer": "ipython3",
   "version": "3.6.8"
  }
 },
 "nbformat": 4,
 "nbformat_minor": 2
}
