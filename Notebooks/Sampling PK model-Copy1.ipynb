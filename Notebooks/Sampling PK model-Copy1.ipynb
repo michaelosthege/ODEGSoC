{
 "cells": [
  {
   "cell_type": "code",
   "execution_count": 1,
   "metadata": {},
   "outputs": [],
   "source": [
    "from scipy.integrate import odeint\n",
    "import numpy as np\n",
    "import theano \n",
    "import theano.tensor as tt\n",
    "import scipy\n",
    "import matplotlib.pyplot as plt\n",
    "import pymc3 as pm\n",
    "%matplotlib inline\n",
    "THEANO_FLAGS='optimizer=fast_compile'"
   ]
  },
  {
   "cell_type": "code",
   "execution_count": 2,
   "metadata": {},
   "outputs": [],
   "source": [
    "def f(y, t, theta):\n",
    "    \"\"\"\"This is the ODE system.\n",
    "    \n",
    "    The function can act on either numpy arrays or theano TensorVariables\n",
    "    \n",
    "    Args:\n",
    "        y (vector): system state\n",
    "        t (float): current time (optional)\n",
    "        theta (vector): parameters of the ODEs\n",
    "        \n",
    "    Returns:\n",
    "        dydt (list): result of the ODEs\n",
    "    \"\"\"\n",
    "    return np.exp(-t) - theta[0]*y[0]"
   ]
  },
  {
   "cell_type": "code",
   "execution_count": 3,
   "metadata": {},
   "outputs": [],
   "source": [
    "n_states = 1\n",
    "n_odeparams = 1\n",
    "n_ivs = 1\n",
    "\n",
    "class ODEModel(object):\n",
    "\n",
    "    def __init__(self, odefunc, y0, t0, times, n_states, n_ics, n_odeparams):\n",
    "\n",
    "        self._odefunc = odefunc\n",
    "        self._t0 = t0\n",
    "        self._y0 = y0\n",
    "        self._times = times\n",
    "        self._n_states = n_states\n",
    "        self._n_ics = n_ics\n",
    "        self._n_odeparams = n_odeparams\n",
    "        self._augmented_system = self.augment_system(odefunc)\n",
    "\n",
    "\n",
    "        #ODE solution is a vector of dimension n\n",
    "        #Sensitivities are a matrix of dimension nxm\n",
    "        self._n = self._n_states\n",
    "        self._m = self._n_odeparams + self._n_ics\n",
    "\n",
    "        #TODO:  Add cached solver to increase speed.  Something presently wrong.\n",
    "        self._cached_parameters = np.zeros(self._m)\n",
    "        self._cached_sens = np.zeros((len(self._times),self._n, self._m))\n",
    "        self._cached_y = np.zeros((len(self._times), self._n))\n",
    "\n",
    "    def system(self,Y,t,p):\n",
    "\n",
    "        \"\"\"\n",
    "        This is the function that wull be passed to odeint.\n",
    "        Solves both ODE and sensitivities\n",
    "\n",
    "        Args:\n",
    "            Y (vector): current state and current gradient state\n",
    "            t (scalar): current time\n",
    "            p (vector): parameters\n",
    "\n",
    "        Returns:\n",
    "            derivatives (vector): derivatives of state and gradient\n",
    "        \"\"\"\n",
    "\n",
    "\n",
    "        dydt, sens = self._augmented_system(Y[:self._n], \n",
    "                                            t,\n",
    "                                            p,\n",
    "                                            Y[self._n:],\n",
    "                                            self._n,\n",
    "                                            self._m\n",
    "                                            )\n",
    "\n",
    "        derivatives =  np.concatenate([dydt,sens])\n",
    "\n",
    "        return derivatives\n",
    "\n",
    "    def simulate(self, parameters):\n",
    "\n",
    "        '''\n",
    "        This function returns solutions and sensitivities of the ODE,\n",
    "        evaluated at times and parameterized by parameters.\n",
    "\n",
    "        Inputs:\n",
    "            times(array): Times to evaluate the solution of the ODE\n",
    "            parameters(array): Parameters for ODE.  Last entries should be\n",
    "                               initial conditions\n",
    "\n",
    "        Returns:\n",
    "            sol(array): Solution of ODE\n",
    "        '''\n",
    "\n",
    "        #Set up the inital condition for the sensitivities\n",
    "        sens_ic = np.zeros((self._n, self._m))\n",
    "\n",
    "        #Last n columns correspond to senstivity for inital condition\n",
    "        #So last n columns form identity matrix\n",
    "        sens_ic[:, -self._n:] = np.eye(self._n)\n",
    "\n",
    "        #Create an initial condition for the system\n",
    "        y_ic = parameters[-self._n:]\n",
    "\n",
    "        #Concatenate the two inital conditions to form the initial condition\n",
    "        #for the augmented system (ODE + sensitivity ODe)\n",
    "        y0 = np.concatenate([y_ic, sens_ic.ravel()])\n",
    "\n",
    "        #Ensure the indicated inital time is the start of the integration\n",
    "        augmented_times = np.insert(self._times, self._t0, 0)\n",
    "\n",
    "        #Integrate\n",
    "        soln = scipy.integrate.odeint(self.system,\n",
    "                    y0=y0,\n",
    "                    t = augmented_times,\n",
    "                    args = tuple([parameters]))\n",
    "\n",
    "        #Reshaoe the sensitivities so that there is an nxm matrix for each \n",
    "        #timestep\n",
    "        y = soln[1:, :self._n]\n",
    "        sens = soln[1:, self._n:].reshape((len(self._times),self._n, self._m) )\n",
    "\n",
    "        return y,sens\n",
    "    \n",
    "    def augment_system(self,ode_func):\n",
    "        '''Function to create augmented system.\n",
    "\n",
    "        Take a function which specifies a set of differential equations and return\n",
    "        a compiled function which allows for computation of gradients of the\n",
    "        differential equation's solition with repsect to the parameters.\n",
    "\n",
    "        Args:\n",
    "            ode_func (function): Differential equation.  Returns array-like\n",
    "\n",
    "        Returns:\n",
    "            system (function): Augemted system of differential equations.\n",
    "\n",
    "        '''\n",
    "\n",
    "        #Shapes for the dydp dmatrix\n",
    "        #TODO: Should this be int64 or other dtype?\n",
    "        t_n = tt.scalar('n', dtype = 'int64')\n",
    "        t_m = tt.scalar('m', dtype = 'int64')\n",
    "\n",
    "        #Present state of the system\n",
    "        t_y = tt.dvector('y')\n",
    "\n",
    "        #Parameter(s).  Should be vector to allow for generaliztion to multiparameter\n",
    "        #systems of ODEs\n",
    "        t_p = tt.dvector('p')\n",
    "\n",
    "        #Time.  Allow for non-automonous systems of ODEs to be analyzed\n",
    "        t_t = tt.dscalar('t')\n",
    "\n",
    "        #Present state of the gradients:\n",
    "        #Will always be 0 unless the parameter is the inital condition\n",
    "        #Entry i,j is partial of y[i] wrt to p[j]\n",
    "        dydp_vec= tt.dvector('dydp')\n",
    "\n",
    "        dydp = dydp_vec.reshape((t_n,t_m))\n",
    "\n",
    "        #Stack the results of the ode_func\n",
    "        #TODO: Does this behave the same of ODE is scalar?\n",
    "        f_tensor = tt.stack(ode_func(t_y, t_t, t_p))\n",
    "\n",
    "        #Now compute gradients\n",
    "        J = tt.jacobian(f_tensor,t_y)\n",
    "\n",
    "        Jdfdy = tt.dot(J, dydp)\n",
    "\n",
    "        grad_f = tt.jacobian(f_tensor, t_p)\n",
    "\n",
    "        #This is the time derivative of dydp\n",
    "        ddt_dydp = (Jdfdy + grad_f).flatten()\n",
    "\n",
    "\n",
    "        system = theano.function(\n",
    "                inputs=[t_y, t_t, t_p, dydp_vec, t_n, t_m],\n",
    "                outputs=[f_tensor, ddt_dydp],\n",
    "                on_unused_input='ignore')\n",
    "\n",
    "        return system"
   ]
  },
  {
   "cell_type": "code",
   "execution_count": 5,
   "metadata": {},
   "outputs": [
    {
     "name": "stderr",
     "output_type": "stream",
     "text": [
      "/Users/demetri/anaconda3/lib/python3.6/site-packages/ipykernel_launcher.py:16: DeprecationWarning: stack(*tensors) interface is deprecated, use stack(tensors, axis=0) instead.\n",
      "  app.launch_new_instance()\n"
     ]
    },
    {
     "data": {
      "text/plain": [
       "[<matplotlib.lines.Line2D at 0x1c2abc4518>]"
      ]
     },
     "execution_count": 5,
     "metadata": {},
     "output_type": "execute_result"
    },
    {
     "data": {
      "image/png": "[encoded data removed]",
      "text/plain": [
       "<Figure size 432x288 with 1 Axes>"
      ]
     },
     "metadata": {
      "needs_background": "light"
     },
     "output_type": "display_data"
    }
   ],
   "source": [
    "times = np.arange(0,10,0.5)\n",
    "ode_model = ODEModel(odefunc = f, \n",
    "                   y0 = 0,\n",
    "                   t0 = 0,\n",
    "                    times = times,\n",
    "                    n_states = 1,\n",
    "                    n_ics = 1,\n",
    "                    n_odeparams = 1)\n",
    "\n",
    "\n",
    "sims, sens = ode_model.simulate([0.4,0])\n",
    "\n",
    "plt.plot(times, sims)\n",
    "\n"
   ]
  },
  {
   "cell_type": "code",
   "execution_count": 6,
   "metadata": {},
   "outputs": [
    {
     "data": {
      "text/plain": [
       "[<matplotlib.lines.Line2D at 0x1c26918208>]"
      ]
     },
     "execution_count": 6,
     "metadata": {},
     "output_type": "execute_result"
    },
    {
     "data": {
      "image/png": "[encoded data removed]",
      "text/plain": [
       "<Figure size 432x288 with 1 Axes>"
      ]
     },
     "metadata": {
      "needs_background": "light"
     },
     "output_type": "display_data"
    }
   ],
   "source": [
    "#Create data to learn from\n",
    "Y = scipy.stats.lognorm.rvs(s = 0.1, scale = sims)\n",
    "plt.plot(times,Y)\n",
    "plt.plot(times,sims)\n"
   ]
  },
  {
   "cell_type": "code",
   "execution_count": 7,
   "metadata": {},
   "outputs": [],
   "source": [
    "class solveCached(object):\n",
    "    def __init__(self, times, n_params, n_outputs):\n",
    "      \n",
    "        self._times = times\n",
    "        self._n_params = n_params\n",
    "        self._n_outputs = n_outputs\n",
    "        self._cachedParam = np.zeros(n_params)\n",
    "        self._cachedSens = np.zeros((len(times), n_outputs, n_params))\n",
    "        self._cachedState = np.zeros((len(times),n_outputs))\n",
    "        \n",
    "    def __call__(self, x):\n",
    "        \n",
    "        if np.all(x==self._cachedParam):\n",
    "            state, sens = self._cachedState, self._cachedSens\n",
    "            \n",
    "        else:\n",
    "            state, sens = ode_model.simulate(x)\n",
    "        \n",
    "        return state,sens\n",
    "    \n",
    "\n",
    "cached_solver=solveCached(times, n_odeparams + n_ivs, n_states)"
   ]
  },
  {
   "cell_type": "code",
   "execution_count": 16,
   "metadata": {},
   "outputs": [],
   "source": [
    "def state(x):\n",
    "    State, Sens = cached_solver(np.array(x,dtype=np.float64))\n",
    "    cached_solver._cachedState, cached_solver._cachedSens, cached_solver._cachedParam = State, Sens, x\n",
    "    return State.reshape(Y.size)\n",
    "\n",
    "def numpy_vsp(x, g):    \n",
    "    numpy_sens = cached_solver(np.array(x,dtype=np.float64))[1].reshape((n_states*len(times),len(x)))\n",
    "    return numpy_sens.T.dot(g)"
   ]
  },
  {
   "cell_type": "code",
   "execution_count": 17,
   "metadata": {},
   "outputs": [],
   "source": [
    "class ODEGradop(theano.Op):\n",
    "    def __init__(self, numpy_vsp):\n",
    "        self._numpy_vsp = numpy_vsp\n",
    "\n",
    "    def make_node(self, x, g):\n",
    "        x = theano.tensor.as_tensor_variable(x)\n",
    "        g = theano.tensor.as_tensor_variable(g)\n",
    "        node = theano.Apply(self, [x, g], [g.type()])\n",
    "        return node\n",
    "\n",
    "    def perform(self, node, inputs_storage, output_storage):\n",
    "        x = inputs_storage[0]\n",
    "\n",
    "        g = inputs_storage[1]\n",
    "        out = output_storage[0]\n",
    "        out[0] = self._numpy_vsp(x, g)       # get the numerical VSP\n",
    "        "
   ]
  },
  {
   "cell_type": "code",
   "execution_count": 18,
   "metadata": {},
   "outputs": [],
   "source": [
    "class ODEop(theano.Op):\n",
    "\n",
    "    def __init__(self, state, numpy_vsp):\n",
    "        self._state = state\n",
    "        self._numpy_vsp = numpy_vsp\n",
    "\n",
    "    def make_node(self, x):\n",
    "        x = theano.tensor.as_tensor_variable(x)\n",
    "\n",
    "        return theano.Apply(self, [x], [x.type()])\n",
    "\n",
    "    def perform(self, node, inputs_storage, output_storage):\n",
    "        x = inputs_storage[0]\n",
    "        out = output_storage[0]\n",
    "        \n",
    "        out[0] = self._state(x)               # get the numerical solution of ODE states\n",
    "\n",
    "    def grad(self, inputs, output_grads):\n",
    "        x = inputs[0]\n",
    "        g = output_grads[0]\n",
    "\n",
    "        grad_op = ODEGradop(self._numpy_vsp)  # pass the VSP when asked for gradient \n",
    "        grad_op_apply = grad_op(x, g)\n",
    "        \n",
    "        return [grad_op_apply]"
   ]
  },
  {
   "cell_type": "code",
   "execution_count": 19,
   "metadata": {},
   "outputs": [
    {
     "name": "stderr",
     "output_type": "stream",
     "text": [
      "Auto-assigning NUTS sampler...\n",
      "Initializing NUTS using adapt_diag...\n",
      "Multiprocess sampling (4 chains in 4 jobs)\n",
      "NUTS: [sigma, alpha]\n",
      "Sampling 4 chains:   0%|          | 0/10000 [00:00<?, ?draws/s]\n"
     ]
    },
    {
     "ename": "RuntimeError",
     "evalue": "Chain 0 failed.",
     "output_type": "error",
     "traceback": [
      "\u001b[0;31m---------------------------------------------------------------------------\u001b[0m",
      "\u001b[0;31mRemoteTraceback\u001b[0m                           Traceback (most recent call last)",
      "\u001b[0;31mRemoteTraceback\u001b[0m: \n\"\"\"\nTraceback (most recent call last):\n  File \"/Users/demetri/anaconda3/lib/python3.6/site-packages/pymc3/parallel_sampling.py\", line 73, in run\n    self._start_loop()\n  File \"/Users/demetri/anaconda3/lib/python3.6/site-packages/pymc3/parallel_sampling.py\", line 113, in _start_loop\n    point, stats = self._compute_point()\n  File \"/Users/demetri/anaconda3/lib/python3.6/site-packages/pymc3/parallel_sampling.py\", line 139, in _compute_point\n    point, stats = self._step_method.step(self._point)\n  File \"/Users/demetri/anaconda3/lib/python3.6/site-packages/pymc3/step_methods/arraystep.py\", line 247, in step\n    apoint, stats = self.astep(array)\n  File \"/Users/demetri/anaconda3/lib/python3.6/site-packages/pymc3/step_methods/hmc/base_hmc.py\", line 117, in astep\n    'might be misspecified.' % start.energy)\nValueError: Bad initial energy: nan. The model might be misspecified.\n\"\"\"",
      "\nThe above exception was the direct cause of the following exception:\n",
      "\u001b[0;31mValueError\u001b[0m                                Traceback (most recent call last)",
      "\u001b[0;31mValueError\u001b[0m: Bad initial energy: nan. The model might be misspecified.",
      "\nThe above exception was the direct cause of the following exception:\n",
      "\u001b[0;31mRuntimeError\u001b[0m                              Traceback (most recent call last)",
      "\u001b[0;32m<ipython-input-19-bcb876e62d35>\u001b[0m in \u001b[0;36m<module>\u001b[0;34m\u001b[0m\n\u001b[1;32m     28\u001b[0m     \u001b[0mY_obs\u001b[0m \u001b[0;34m=\u001b[0m \u001b[0mpm\u001b[0m\u001b[0;34m.\u001b[0m\u001b[0mLognormal\u001b[0m\u001b[0;34m(\u001b[0m\u001b[0;34m'Y_obs'\u001b[0m\u001b[0;34m,\u001b[0m \u001b[0mmu\u001b[0m\u001b[0;34m=\u001b[0m\u001b[0mpm\u001b[0m\u001b[0;34m.\u001b[0m\u001b[0mmath\u001b[0m\u001b[0;34m.\u001b[0m\u001b[0mlog\u001b[0m\u001b[0;34m(\u001b[0m\u001b[0mforward\u001b[0m\u001b[0;34m)\u001b[0m\u001b[0;34m,\u001b[0m \u001b[0msd\u001b[0m\u001b[0;34m=\u001b[0m\u001b[0msigma\u001b[0m\u001b[0;34m,\u001b[0m \u001b[0mobserved\u001b[0m\u001b[0;34m=\u001b[0m\u001b[0mY\u001b[0m\u001b[0;34m)\u001b[0m\u001b[0;34m\u001b[0m\u001b[0;34m\u001b[0m\u001b[0m\n\u001b[1;32m     29\u001b[0m \u001b[0;34m\u001b[0m\u001b[0m\n\u001b[0;32m---> 30\u001b[0;31m     \u001b[0mtrace\u001b[0m \u001b[0;34m=\u001b[0m \u001b[0mpm\u001b[0m\u001b[0;34m.\u001b[0m\u001b[0msample\u001b[0m\u001b[0;34m(\u001b[0m\u001b[0;36m1500\u001b[0m\u001b[0;34m,\u001b[0m \u001b[0mtune\u001b[0m\u001b[0;34m=\u001b[0m\u001b[0;36m1000\u001b[0m\u001b[0;34m,\u001b[0m \u001b[0minit\u001b[0m\u001b[0;34m=\u001b[0m\u001b[0;34m'adapt_diag'\u001b[0m\u001b[0;34m)\u001b[0m\u001b[0;34m\u001b[0m\u001b[0;34m\u001b[0m\u001b[0m\n\u001b[0m\u001b[1;32m     31\u001b[0m \u001b[0mtrace\u001b[0m\u001b[0;34m[\u001b[0m\u001b[0;34m'diverging'\u001b[0m\u001b[0;34m]\u001b[0m\u001b[0;34m.\u001b[0m\u001b[0msum\u001b[0m\u001b[0;34m(\u001b[0m\u001b[0;34m)\u001b[0m\u001b[0;34m\u001b[0m\u001b[0;34m\u001b[0m\u001b[0m\n",
      "\u001b[0;32m~/anaconda3/lib/python3.6/site-packages/pymc3/sampling.py\u001b[0m in \u001b[0;36msample\u001b[0;34m(draws, step, init, n_init, start, trace, chain_idx, chains, cores, tune, nuts_kwargs, step_kwargs, progressbar, model, random_seed, live_plot, discard_tuned_samples, live_plot_kwargs, compute_convergence_checks, use_mmap, **kwargs)\u001b[0m\n\u001b[1;32m    447\u001b[0m             \u001b[0m_print_step_hierarchy\u001b[0m\u001b[0;34m(\u001b[0m\u001b[0mstep\u001b[0m\u001b[0;34m)\u001b[0m\u001b[0;34m\u001b[0m\u001b[0;34m\u001b[0m\u001b[0m\n\u001b[1;32m    448\u001b[0m             \u001b[0;32mtry\u001b[0m\u001b[0;34m:\u001b[0m\u001b[0;34m\u001b[0m\u001b[0;34m\u001b[0m\u001b[0m\n\u001b[0;32m--> 449\u001b[0;31m                 \u001b[0mtrace\u001b[0m \u001b[0;34m=\u001b[0m \u001b[0m_mp_sample\u001b[0m\u001b[0;34m(\u001b[0m\u001b[0;34m**\u001b[0m\u001b[0msample_args\u001b[0m\u001b[0;34m)\u001b[0m\u001b[0;34m\u001b[0m\u001b[0;34m\u001b[0m\u001b[0m\n\u001b[0m\u001b[1;32m    450\u001b[0m             \u001b[0;32mexcept\u001b[0m \u001b[0mpickle\u001b[0m\u001b[0;34m.\u001b[0m\u001b[0mPickleError\u001b[0m\u001b[0;34m:\u001b[0m\u001b[0;34m\u001b[0m\u001b[0;34m\u001b[0m\u001b[0m\n\u001b[1;32m    451\u001b[0m                 \u001b[0m_log\u001b[0m\u001b[0;34m.\u001b[0m\u001b[0mwarning\u001b[0m\u001b[0;34m(\u001b[0m\u001b[0;34m\"Could not pickle model, sampling singlethreaded.\"\u001b[0m\u001b[0;34m)\u001b[0m\u001b[0;34m\u001b[0m\u001b[0;34m\u001b[0m\u001b[0m\n",
      "\u001b[0;32m~/anaconda3/lib/python3.6/site-packages/pymc3/sampling.py\u001b[0m in \u001b[0;36m_mp_sample\u001b[0;34m(draws, tune, step, chains, cores, chain, random_seed, start, progressbar, trace, model, use_mmap, **kwargs)\u001b[0m\n\u001b[1;32m    997\u001b[0m         \u001b[0;32mtry\u001b[0m\u001b[0;34m:\u001b[0m\u001b[0;34m\u001b[0m\u001b[0;34m\u001b[0m\u001b[0m\n\u001b[1;32m    998\u001b[0m             \u001b[0;32mwith\u001b[0m \u001b[0msampler\u001b[0m\u001b[0;34m:\u001b[0m\u001b[0;34m\u001b[0m\u001b[0;34m\u001b[0m\u001b[0m\n\u001b[0;32m--> 999\u001b[0;31m                 \u001b[0;32mfor\u001b[0m \u001b[0mdraw\u001b[0m \u001b[0;32min\u001b[0m \u001b[0msampler\u001b[0m\u001b[0;34m:\u001b[0m\u001b[0;34m\u001b[0m\u001b[0;34m\u001b[0m\u001b[0m\n\u001b[0m\u001b[1;32m   1000\u001b[0m                     \u001b[0mtrace\u001b[0m \u001b[0;34m=\u001b[0m \u001b[0mtraces\u001b[0m\u001b[0;34m[\u001b[0m\u001b[0mdraw\u001b[0m\u001b[0;34m.\u001b[0m\u001b[0mchain\u001b[0m \u001b[0;34m-\u001b[0m \u001b[0mchain\u001b[0m\u001b[0;34m]\u001b[0m\u001b[0;34m\u001b[0m\u001b[0;34m\u001b[0m\u001b[0m\n\u001b[1;32m   1001\u001b[0m                     \u001b[0;32mif\u001b[0m \u001b[0mtrace\u001b[0m\u001b[0;34m.\u001b[0m\u001b[0msupports_sampler_stats\u001b[0m \u001b[0;32mand\u001b[0m \u001b[0mdraw\u001b[0m\u001b[0;34m.\u001b[0m\u001b[0mstats\u001b[0m \u001b[0;32mis\u001b[0m \u001b[0;32mnot\u001b[0m \u001b[0;32mNone\u001b[0m\u001b[0;34m:\u001b[0m\u001b[0;34m\u001b[0m\u001b[0;34m\u001b[0m\u001b[0m\n",
      "\u001b[0;32m~/anaconda3/lib/python3.6/site-packages/pymc3/parallel_sampling.py\u001b[0m in \u001b[0;36m__iter__\u001b[0;34m(self)\u001b[0m\n\u001b[1;32m    303\u001b[0m \u001b[0;34m\u001b[0m\u001b[0m\n\u001b[1;32m    304\u001b[0m         \u001b[0;32mwhile\u001b[0m \u001b[0mself\u001b[0m\u001b[0;34m.\u001b[0m\u001b[0m_active\u001b[0m\u001b[0;34m:\u001b[0m\u001b[0;34m\u001b[0m\u001b[0;34m\u001b[0m\u001b[0m\n\u001b[0;32m--> 305\u001b[0;31m             \u001b[0mdraw\u001b[0m \u001b[0;34m=\u001b[0m \u001b[0mProcessAdapter\u001b[0m\u001b[0;34m.\u001b[0m\u001b[0mrecv_draw\u001b[0m\u001b[0;34m(\u001b[0m\u001b[0mself\u001b[0m\u001b[0;34m.\u001b[0m\u001b[0m_active\u001b[0m\u001b[0;34m)\u001b[0m\u001b[0;34m\u001b[0m\u001b[0;34m\u001b[0m\u001b[0m\n\u001b[0m\u001b[1;32m    306\u001b[0m             \u001b[0mproc\u001b[0m\u001b[0;34m,\u001b[0m \u001b[0mis_last\u001b[0m\u001b[0;34m,\u001b[0m \u001b[0mdraw\u001b[0m\u001b[0;34m,\u001b[0m \u001b[0mtuning\u001b[0m\u001b[0;34m,\u001b[0m \u001b[0mstats\u001b[0m\u001b[0;34m,\u001b[0m \u001b[0mwarns\u001b[0m \u001b[0;34m=\u001b[0m \u001b[0mdraw\u001b[0m\u001b[0;34m\u001b[0m\u001b[0;34m\u001b[0m\u001b[0m\n\u001b[1;32m    307\u001b[0m             \u001b[0;32mif\u001b[0m \u001b[0mself\u001b[0m\u001b[0;34m.\u001b[0m\u001b[0m_progress\u001b[0m \u001b[0;32mis\u001b[0m \u001b[0;32mnot\u001b[0m \u001b[0;32mNone\u001b[0m\u001b[0;34m:\u001b[0m\u001b[0;34m\u001b[0m\u001b[0;34m\u001b[0m\u001b[0m\n",
      "\u001b[0;32m~/anaconda3/lib/python3.6/site-packages/pymc3/parallel_sampling.py\u001b[0m in \u001b[0;36mrecv_draw\u001b[0;34m(processes, timeout)\u001b[0m\n\u001b[1;32m    221\u001b[0m         \u001b[0;32mif\u001b[0m \u001b[0mmsg\u001b[0m\u001b[0;34m[\u001b[0m\u001b[0;36m0\u001b[0m\u001b[0;34m]\u001b[0m \u001b[0;34m==\u001b[0m \u001b[0;34m'error'\u001b[0m\u001b[0;34m:\u001b[0m\u001b[0;34m\u001b[0m\u001b[0;34m\u001b[0m\u001b[0m\n\u001b[1;32m    222\u001b[0m             \u001b[0mold\u001b[0m \u001b[0;34m=\u001b[0m \u001b[0mmsg\u001b[0m\u001b[0;34m[\u001b[0m\u001b[0;36m1\u001b[0m\u001b[0;34m]\u001b[0m\u001b[0;34m\u001b[0m\u001b[0;34m\u001b[0m\u001b[0m\n\u001b[0;32m--> 223\u001b[0;31m             \u001b[0msix\u001b[0m\u001b[0;34m.\u001b[0m\u001b[0mraise_from\u001b[0m\u001b[0;34m(\u001b[0m\u001b[0mRuntimeError\u001b[0m\u001b[0;34m(\u001b[0m\u001b[0;34m'Chain %s failed.'\u001b[0m \u001b[0;34m%\u001b[0m \u001b[0mproc\u001b[0m\u001b[0;34m.\u001b[0m\u001b[0mchain\u001b[0m\u001b[0;34m)\u001b[0m\u001b[0;34m,\u001b[0m \u001b[0mold\u001b[0m\u001b[0;34m)\u001b[0m\u001b[0;34m\u001b[0m\u001b[0;34m\u001b[0m\u001b[0m\n\u001b[0m\u001b[1;32m    224\u001b[0m         \u001b[0;32melif\u001b[0m \u001b[0mmsg\u001b[0m\u001b[0;34m[\u001b[0m\u001b[0;36m0\u001b[0m\u001b[0;34m]\u001b[0m \u001b[0;34m==\u001b[0m \u001b[0;34m'writing_done'\u001b[0m\u001b[0;34m:\u001b[0m\u001b[0;34m\u001b[0m\u001b[0;34m\u001b[0m\u001b[0m\n\u001b[1;32m    225\u001b[0m             \u001b[0mproc\u001b[0m\u001b[0;34m.\u001b[0m\u001b[0m_readable\u001b[0m \u001b[0;34m=\u001b[0m \u001b[0;32mTrue\u001b[0m\u001b[0;34m\u001b[0m\u001b[0;34m\u001b[0m\u001b[0m\n",
      "\u001b[0;32m~/anaconda3/lib/python3.6/site-packages/six.py\u001b[0m in \u001b[0;36mraise_from\u001b[0;34m(value, from_value)\u001b[0m\n",
      "\u001b[0;31mRuntimeError\u001b[0m: Chain 0 failed."
     ]
    }
   ],
   "source": [
    "theano.config.exception_verbosity= 'high'\n",
    "theano.config.floatX = 'float64'\n",
    "\n",
    "\n",
    "# Define the data matrix\n",
    "\n",
    "\n",
    "# Now instantiate the theano custom ODE op\n",
    "my_ODEop = ODEop(state,numpy_vsp)\n",
    "\n",
    "# The probabilistic model\n",
    "with pm.Model() as LV_model:\n",
    "\n",
    "    # Priors for unknown model parameters\n",
    "    \n",
    "    \n",
    "    \n",
    "    p = pm.HalfNormal('alpha',1)\n",
    "    \n",
    "    sigma = pm.Lognormal('sigma', mu=-1, sd=1, shape=2)\n",
    "\n",
    "    # Forward model\n",
    "    all_params = pm.math.stack([p,0],axis=0)\n",
    "    ode_sol = my_ODEop(all_params)\n",
    "    forward = ode_sol.reshape(Y.shape)\n",
    "\n",
    "    # Likelihood \n",
    "    Y_obs = pm.Lognormal('Y_obs', mu=pm.math.log(forward), sd=sigma, observed=Y)\n",
    "    \n",
    "    trace = pm.sample(1500, tune=1000, init='adapt_diag')\n",
    "trace['diverging'].sum()"
   ]
  },
  {
   "cell_type": "code",
   "execution_count": null,
   "metadata": {},
   "outputs": [],
   "source": [
    "pm.gelman_rubin(trace)"
   ]
  },
  {
   "cell_type": "code",
   "execution_count": null,
   "metadata": {},
   "outputs": [],
   "source": [
    "pm.posteriorplot.plot_posterior(trace)"
   ]
  },
  {
   "cell_type": "code",
   "execution_count": null,
   "metadata": {},
   "outputs": [],
   "source": [
    "ppc_samples = pm.sample_posterior_predictive(trace, samples=500, model=LV_model)['Y_obs']\n"
   ]
  },
  {
   "cell_type": "code",
   "execution_count": null,
   "metadata": {},
   "outputs": [],
   "source": [
    "for i in range(100):\n",
    "    ppc = ppc_samples[i]\n",
    "    plt.plot(ppc[:,0], alpha = 0.1, color = 'C0')\n",
    "    plt.plot(ppc[:,1], alpha = 0.1, color = 'C1')"
   ]
  },
  {
   "cell_type": "code",
   "execution_count": null,
   "metadata": {},
   "outputs": [],
   "source": []
  }
 ],
 "metadata": {
  "kernelspec": {
   "display_name": "Python 3",
   "language": "python",
   "name": "python3"
  },
  "language_info": {
   "codemirror_mode": {
    "name": "ipython",
    "version": 3
   },
   "file_extension": ".py",
   "mimetype": "text/x-python",
   "name": "python",
   "nbconvert_exporter": "python",
   "pygments_lexer": "ipython3",
   "version": "3.6.8"
  }
 },
 "nbformat": 4,
 "nbformat_minor": 2
}
