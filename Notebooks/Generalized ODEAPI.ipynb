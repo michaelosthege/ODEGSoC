{
 "cells": [
  {
   "cell_type": "code",
   "execution_count": 1,
   "metadata": {},
   "outputs": [],
   "source": [
    "import numpy as np\n",
    "import theano\n",
    "import theano.tensor as tt\n",
    "THEANO_FLAGS='optimizer=fast_compile'\n",
    "\n"
   ]
  },
  {
   "cell_type": "markdown",
   "metadata": {},
   "source": [
    "Important Equations\n",
    "\n",
    "$$n = \\mbox{Number of States in the differential equation.  The dimension of } y$$\n",
    "\n",
    "$$m = \\mbox{Number of parameters in the differential equation.  The dimension of } p$$\n",
    "\n",
    "$$y' = f(y,t,p)$$\n",
    "\n",
    "$$ \\dfrac{d}{dt} \\left( \\dfrac{\\partial y}{\\partial p} \\right) = \\dfrac{\\partial f}{\\partial y} \\dfrac{\\partial y}{\\partial p} + \\dfrac{\\partial f}{\\partial p} $$\n",
    "\n",
    "\n",
    "$$ \\dfrac{\\partial f}{\\partial y} = \\begin{bmatrix} \n",
    "\\dfrac{\\partial f_1}{\\partial y_1} & \\dots & \\dfrac{\\partial f_1}{ \\partial y_n} \\\\\n",
    "\\vdots & \\ddots & \\vdots \\\\\n",
    "\\dfrac{\\partial f_n}{\\partial y_1} & \\dots & \\dfrac{\\partial f_n}{\\partial y_n}\n",
    "\\end{bmatrix} \\in \\mathbb{R}^{n \\times n}$$\n",
    "\n",
    "$$ \\dfrac{\\partial y}{\\partial p} = \\begin{bmatrix} \n",
    "\\dfrac{\\partial y_1}{\\partial p_1} & \\dots & \\dfrac{\\partial y_1}{ \\partial p_m} \\\\\n",
    "\\vdots & \\ddots & \\vdots \\\\\n",
    "\\dfrac{\\partial y_n}{\\partial p_1} & \\dots & \\dfrac{\\partial y_n}{\\partial p_m}\n",
    "\\end{bmatrix} \\in \\mathbb{R}^{n \\times m}$$\n",
    "\n",
    "$$ \\dfrac{\\partial f}{\\partial y} = \\begin{bmatrix} \n",
    "\\dfrac{\\partial f_1}{\\partial p_1} & \\dots & \\dfrac{\\partial f_1}{ \\partial p_m} \\\\\n",
    "\\vdots & \\ddots & \\vdots \\\\\n",
    "\\dfrac{\\partial f_n}{\\partial p_1} & \\dots & \\dfrac{\\partial f_n}{\\partial p_m}\n",
    "\\end{bmatrix} \\in \\mathbb{R}^{n \\times m}$$\n"
   ]
  },
  {
   "cell_type": "code",
   "execution_count": 2,
   "metadata": {},
   "outputs": [],
   "source": [
    "\n",
    "def augment_system(ode_func):\n",
    "\n",
    "\n",
    "    '''Function to create augmented system.\n",
    "\n",
    "    Take a function which specifies a set of differential equations and return\n",
    "    a compiled function which allows for computation of gradients of the\n",
    "    differential equation's solition with repsect to the parameters.\n",
    "\n",
    "    Args:\n",
    "        ode_func (function): Differential equation.  Returns array-like\n",
    "\n",
    "    Returns:\n",
    "        system (function): Augemted system of differential equations.\n",
    "\n",
    "    '''\n",
    "\n",
    "    #Present state of the system\n",
    "    t_y = tt.dvector('y')\n",
    "\n",
    "    #Parameter(s).  Should be vector to allow for generaliztion to multiparameter\n",
    "    #systems of ODEs\n",
    "    t_p = tt.dvector('p')\n",
    "\n",
    "    #Time.  Allow for non-automonous systems of ODEs to be analyzed\n",
    "    t_t = tt.dscalar('t')\n",
    "\n",
    "    #Present state of the gradients:\n",
    "    #Will always be 0 unless the parameter is the inital condition\n",
    "    #Entry i,j is partial of y[i] wrt to p[j]\n",
    "    dydp = tt.dmatrix('dydp')\n",
    "\n",
    "    #Stack the results of the ode_func\n",
    "    #TODO: Does this behave the same of ODE is scalar?\n",
    "    f_tensor = tt.stack(ode_func(t_y, t_t, t_p))\n",
    "\n",
    "    #Now compute gradients\n",
    "    J = tt.jacobian(f_tensor,t_y)\n",
    "\n",
    "    Jdfdy = tt.dot(J, dydp)\n",
    "\n",
    "    grad_f = tt.jacobian(f_tensor, t_p)\n",
    "\n",
    "    #This is the time derivative of dydp\n",
    "    ddt_dydp = Jdfdy + grad_f\n",
    "\n",
    "    #TODO: Ensure system is reshaped on the odeint call?\n",
    "    system = theano.function(\n",
    "            inputs=[t_y, t_t, t_p, dydp],\n",
    "            outputs=[f_tensor, ddt_dydp],on_unused_input='ignore')\n",
    "\n",
    "    return system\n"
   ]
  },
  {
   "cell_type": "code",
   "execution_count": 26,
   "metadata": {},
   "outputs": [],
   "source": [
    "\n",
    "def augment_system(ode_func):\n",
    "\n",
    "\n",
    "    '''Function to create augmented system.\n",
    "\n",
    "    Take a function which specifies a set of differential equations and return\n",
    "    a compiled function which allows for computation of gradients of the\n",
    "    differential equation's solition with repsect to the parameters.\n",
    "\n",
    "    Args:\n",
    "        ode_func (function): Differential equation.  Returns array-like\n",
    "\n",
    "    Returns:\n",
    "        system (function): Augemted system of differential equations.\n",
    "\n",
    "    '''\n",
    "    \n",
    "    t_n = tt.scalar('n', dtype = 'int32')\n",
    "    t_m = tt.scalar('m', dtype = 'int32')\n",
    "\n",
    "    #Present state of the system\n",
    "    t_y = tt.dvector('y')\n",
    "\n",
    "    #Parameter(s).  Should be vector to allow for generaliztion to multiparameter\n",
    "    #systems of ODEs\n",
    "    t_p = tt.dvector('p')\n",
    "\n",
    "    #Time.  Allow for non-automonous systems of ODEs to be analyzed\n",
    "    t_t = tt.dscalar('t')\n",
    "\n",
    "    #Present state of the gradients:\n",
    "    #Will always be 0 unless the parameter is the inital condition\n",
    "    #Entry i,j is partial of y[i] wrt to p[j]\n",
    "    dydp_vec = tt.vector('dydp')   \n",
    "    \n",
    "    dydp = dydp_vec.reshape((t_n,t_m))\n",
    "\n",
    "\n",
    "    #Stack the results of the ode_func\n",
    "    #TODO: Does this behave the same of ODE is scalar?\n",
    "    f_tensor = tt.stack(ode_func(t_y, t_t, t_p))\n",
    "\n",
    "    #Now compute gradients\n",
    "    J = tt.jacobian(f_tensor,t_y)\n",
    "\n",
    "    Jdfdy = tt.dot(J, dydp)\n",
    "\n",
    "    grad_f = tt.jacobian(f_tensor, t_p)\n",
    "\n",
    "    #This is the time derivative of dydp\n",
    "    ddt_dydp = (Jdfdy + grad_f).flatten()\n",
    "\n",
    "    #TODO: Ensure system is reshaped on the odeint call?\n",
    "    system = theano.function(\n",
    "            inputs=[t_y, t_t, t_p, dydp_vec ,t_n, t_m],\n",
    "            outputs=[f_tensor, ddt_dydp],on_unused_input='ignore')\n",
    "\n",
    "    return system\n"
   ]
  },
  {
   "cell_type": "code",
   "execution_count": 28,
   "metadata": {},
   "outputs": [
    {
     "name": "stderr",
     "output_type": "stream",
     "text": [
      "/Users/demetri/anaconda3/lib/python3.6/site-packages/ipykernel_launcher.py:9: DeprecationWarning: stack(*tensors) interface is deprecated, use stack(tensors, axis=0) instead.\n",
      "  if __name__ == '__main__':\n"
     ]
    },
    {
     "data": {
      "text/plain": [
       "[array([1.]), array([0.])]"
      ]
     },
     "execution_count": 28,
     "metadata": {},
     "output_type": "execute_result"
    }
   ],
   "source": [
    "def test_ode_func_1(y,t,p):\n",
    "\n",
    "    #Scalar ODE, one parameter\n",
    "    #Inspired by first order pharmacokineitc models\n",
    "    #y' = exp(-t)-p*y\n",
    "    return np.exp(-t) - p[0]*y[0]\n",
    "\n",
    "\n",
    "sys_1 = augment_system(test_ode_func_1)\n",
    "\n",
    "n = 1\n",
    "m = 1\n",
    "\n",
    "sys_1(np.zeros(shape = n),0, np.array([0]), np.zeros(shape = n*m),n,m)"
   ]
  },
  {
   "cell_type": "code",
   "execution_count": 29,
   "metadata": {},
   "outputs": [
    {
     "name": "stderr",
     "output_type": "stream",
     "text": [
      "/Users/demetri/anaconda3/lib/python3.6/site-packages/ipykernel_launcher.py:9: DeprecationWarning: stack(*tensors) interface is deprecated, use stack(tensors, axis=0) instead.\n",
      "  if __name__ == '__main__':\n"
     ]
    },
    {
     "data": {
      "text/plain": [
       "[array([5.06506623]), array([1., 0.])]"
      ]
     },
     "execution_count": 29,
     "metadata": {},
     "output_type": "execute_result"
    }
   ],
   "source": [
    "def test_ode_func_2(y,t,p):\n",
    "\n",
    "    #Scalar ODE, two parameters\n",
    "    #Inspired by first order pharmacokineitc models\n",
    "    #y' = D/V*k_a*exp(-k_a*t)-k*y\n",
    "\n",
    "    return p[0]*np.exp(-p[0]*t)-p[1]*y[0]\n",
    "\n",
    "sys_2 = augment_system(test_ode_func_2)\n",
    "\n",
    "n = 1\n",
    "m = 2\n",
    "\n",
    "y = np.zeros(n)\n",
    "t = 0\n",
    "p = np.random.exponential(size = m)\n",
    "dydp = np.zeros(shape = n*m)\n",
    "\n",
    "sys_2(y,t,p,dydp,n,m)\n"
   ]
  },
  {
   "cell_type": "code",
   "execution_count": 30,
   "metadata": {},
   "outputs": [
    {
     "data": {
      "text/plain": [
       "[array([-0.,  0.]), array([0., 0.])]"
      ]
     },
     "execution_count": 30,
     "metadata": {},
     "output_type": "execute_result"
    }
   ],
   "source": [
    "\n",
    "def test_ode_func_3(y,t,p):\n",
    "\n",
    "    #Vector ODE, scalar parameter\n",
    "    #non-dimensionalized SIR model\n",
    "    #S' = -R_0*S*I, I' = R_0*S*I - I\n",
    "\n",
    "\n",
    "    ds = -p[0]*y[0]*y[1]\n",
    "    di = p[0]*y[0]*y[1] - y[1]\n",
    "\n",
    "    return [ds,di]\n",
    "\n",
    "sys_3 = augment_system(test_ode_func_3)\n",
    "\n",
    "\n",
    "n = 2\n",
    "m = 1\n",
    "\n",
    "y = np.zeros(n)\n",
    "t = 0\n",
    "p = np.random.exponential(size = m)\n",
    "dydp = np.zeros(n*m)\n",
    "\n",
    "sys_3(y,t,p,dydp,n,m)\n",
    "\n"
   ]
  },
  {
   "cell_type": "code",
   "execution_count": 31,
   "metadata": {},
   "outputs": [
    {
     "data": {
      "text/plain": [
       "[array([-0.,  0.]), array([0., 0., 0., 0.])]"
      ]
     },
     "execution_count": 31,
     "metadata": {},
     "output_type": "execute_result"
    }
   ],
   "source": [
    "def test_ode_func_4(y,t,p):\n",
    "\n",
    "    #Vector ODE, vector paramter\n",
    "    #Inspired by SIR model\n",
    "    #S' = -beta*S*I, I' = beta*S*I - gamma*I\n",
    "\n",
    "\n",
    "    ds = -p[0]*y[0]*y[1]\n",
    "    di = p[0]*y[0]*y[1] - p[1]*y[1]\n",
    "\n",
    "    return [ds,di]\n",
    "\n",
    "\n",
    "sys_4 = augment_system(test_ode_func_4)\n",
    "\n",
    "\n",
    "n = 2\n",
    "m = 2\n",
    "\n",
    "y = np.zeros(n)\n",
    "t = 0\n",
    "p = np.random.exponential(size = n)\n",
    "dydp = np.zeros(n*m)\n",
    "\n",
    "sys_4(y,t,p,dydp,n,m)"
   ]
  },
  {
   "cell_type": "code",
   "execution_count": 10,
   "metadata": {},
   "outputs": [
    {
     "data": {
      "text/plain": [
       "array([[1]])"
      ]
     },
     "execution_count": 10,
     "metadata": {},
     "output_type": "execute_result"
    }
   ],
   "source": []
  },
  {
   "cell_type": "code",
   "execution_count": null,
   "metadata": {},
   "outputs": [],
   "source": []
  }
 ],
 "metadata": {
  "kernelspec": {
   "display_name": "Python 3",
   "language": "python",
   "name": "python3"
  },
  "language_info": {
   "codemirror_mode": {
    "name": "ipython",
    "version": 3
   },
   "file_extension": ".py",
   "mimetype": "text/x-python",
   "name": "python",
   "nbconvert_exporter": "python",
   "pygments_lexer": "ipython3",
   "version": "3.6.8"
  }
 },
 "nbformat": 4,
 "nbformat_minor": 2
}
